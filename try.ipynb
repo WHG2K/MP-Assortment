{
 "cells": [
  {
   "cell_type": "code",
   "execution_count": 4,
   "metadata": {},
   "outputs": [
    {
     "name": "stdout",
     "output_type": "stream",
     "text": [
      "Gurobi home: D:\\gurobi1200\\win64\n",
      "License path: D:\\work\\RMPJ\\gurobi.lic\n"
     ]
    }
   ],
   "source": [
    "from src.ptas.AO_instance import AO_Instance\n",
    "from src.algorithms.models import MPAssortSurrogate, MPAssortOriginal\n",
    "from src.utils.brute_force import BruteForceOptimizer\n",
    "import numpy as np\n",
    "from src.utils.distributions import GumBel\n",
    "from src.algorithms.sBB_functions_utils import RSP_obj, RSP_ub, RSP_lb, SP_obj, SP_ub, SP_lb, OP_obj\n",
    "from dotenv import load_dotenv\n",
    "from src.ptas.run_PTAS import run_PTAS\n",
    "import os\n",
    "\n",
    "load_dotenv(override=True)\n",
    "\n",
    "# check gurobi home and license\n",
    "gurobi_home = os.getenv(\"GUROBI_HOME\")\n",
    "license_file = os.getenv(\"GRB_LICENSE_FILE\")\n",
    "print(f\"Gurobi home: {gurobi_home}\")\n",
    "print(f\"License path: {license_file}\")"
   ]
  },
  {
   "cell_type": "code",
   "execution_count": 5,
   "metadata": {},
   "outputs": [],
   "source": [
    "N = 15\n",
    "u = np.random.normal(0, 1, N).reshape(-1).tolist()\n",
    "w = np.exp(u)\n",
    "w_max = np.max(w)\n",
    "r = (w_max - w).reshape(-1).tolist()\n",
    "\n",
    "# Generate basket size distribution\n",
    "basket_sizes = [1, 2, 3]\n",
    "probs = np.random.uniform(0, 1, len(basket_sizes))\n",
    "probs = probs / probs.sum()\n",
    "probs = probs.reshape(-1).tolist()\n",
    "B = dict(zip(basket_sizes, probs))\n",
    "\n",
    "C = (10, 10)"
   ]
  },
  {
   "cell_type": "markdown",
   "metadata": {},
   "source": [
    "#### 1. compare true_probability"
   ]
  },
  {
   "cell_type": "code",
   "execution_count": 11,
   "metadata": {},
   "outputs": [
    {
     "name": "stdout",
     "output_type": "stream",
     "text": [
      "ptas revenue 2.669123429210606\n",
      "op revenue 2.669123429210606\n",
      "item 3\n",
      "ptas choice probability 0.2972015975239025\n",
      "op choice probability 0.2972015975239025\n",
      "0\n"
     ]
    },
    {
     "ename": "TypeError",
     "evalue": "can only concatenate list (not \"tuple\") to list",
     "output_type": "error",
     "traceback": [
      "\u001b[1;31m---------------------------------------------------------------------------\u001b[0m",
      "\u001b[1;31mTypeError\u001b[0m                                 Traceback (most recent call last)",
      "Cell \u001b[1;32mIn[11], line 36\u001b[0m\n\u001b[0;32m     25\u001b[0m \u001b[38;5;66;03m# # compare optimal revenue\u001b[39;00m\n\u001b[0;32m     26\u001b[0m \u001b[38;5;66;03m# best_rev_ptas = ao_instance.Get_Opt_Card()\u001b[39;00m\n\u001b[0;32m     27\u001b[0m \u001b[38;5;66;03m# op_obj = OP_obj(op)\u001b[39;00m\n\u001b[1;32m   (...)\u001b[0m\n\u001b[0;32m     33\u001b[0m \n\u001b[0;32m     34\u001b[0m \u001b[38;5;66;03m# try ptas\u001b[39;00m\n\u001b[0;32m     35\u001b[0m ptas_solver \u001b[38;5;241m=\u001b[39m run_PTAS(ao_instance)\n\u001b[1;32m---> 36\u001b[0m best_rev_ptas \u001b[38;5;241m=\u001b[39m \u001b[43mptas_solver\u001b[49m\u001b[38;5;241;43m.\u001b[39;49m\u001b[43mPTAS\u001b[49m\u001b[43m(\u001b[49m\u001b[38;5;241;43m0.6\u001b[39;49m\u001b[43m)\u001b[49m\n\u001b[0;32m     37\u001b[0m \u001b[38;5;28mprint\u001b[39m(\u001b[38;5;124m\"\u001b[39m\u001b[38;5;124mbest rev ptas\u001b[39m\u001b[38;5;124m\"\u001b[39m, best_rev_ptas)\n\u001b[0;32m     38\u001b[0m \u001b[38;5;28mprint\u001b[39m(\u001b[38;5;124m\"\u001b[39m\u001b[38;5;124mbest assortment ptas\u001b[39m\u001b[38;5;124m\"\u001b[39m, ptas_solver\u001b[38;5;241m.\u001b[39mbest_S)\n",
      "File \u001b[1;32md:\\work\\RMPJ\\multi-purchase-single-V\\MP-Assortment\\src\\ptas\\run_PTAS.py:35\u001b[0m, in \u001b[0;36mrun_PTAS.PTAS\u001b[1;34m(self, eps)\u001b[0m\n\u001b[0;32m     32\u001b[0m opt_light \u001b[38;5;241m=\u001b[39m \u001b[38;5;28mself\u001b[39m\u001b[38;5;241m.\u001b[39mSolve_Knap_Light(num_light, rewards_list, weight_list, delta, eps, num_heavy)\n\u001b[0;32m     34\u001b[0m total_offered \u001b[38;5;241m=\u001b[39m num_heavy \u001b[38;5;241m+\u001b[39m \u001b[38;5;28mlen\u001b[39m(opt_light)\n\u001b[1;32m---> 35\u001b[0m S \u001b[38;5;241m=\u001b[39m \u001b[43m[\u001b[49m\u001b[43mlight\u001b[49m\u001b[43m[\u001b[49m\u001b[43ml_index\u001b[49m\u001b[43m]\u001b[49m\u001b[43m \u001b[49m\u001b[38;5;28;43;01mfor\u001b[39;49;00m\u001b[43m \u001b[49m\u001b[43ml_index\u001b[49m\u001b[43m \u001b[49m\u001b[38;5;129;43;01min\u001b[39;49;00m\u001b[43m \u001b[49m\u001b[43mopt_light\u001b[49m\u001b[43m]\u001b[49m\u001b[43m \u001b[49m\u001b[38;5;241;43m+\u001b[39;49m\u001b[43m \u001b[49m\u001b[43mheavy\u001b[49m\n\u001b[0;32m     37\u001b[0m \u001b[38;5;28;01mif\u001b[39;00m \u001b[38;5;28mlen\u001b[39m(S) \u001b[38;5;241m==\u001b[39m \u001b[38;5;28mself\u001b[39m\u001b[38;5;241m.\u001b[39mtest_case\u001b[38;5;241m.\u001b[39mC:\n\u001b[0;32m     38\u001b[0m     opt_IP \u001b[38;5;241m=\u001b[39m \u001b[38;5;28mself\u001b[39m\u001b[38;5;241m.\u001b[39mtest_case\u001b[38;5;241m.\u001b[39mCompute_Rev(S)\n",
      "\u001b[1;31mTypeError\u001b[0m: can only concatenate list (not \"tuple\") to list"
     ]
    }
   ],
   "source": [
    "# get parameters for ptas\n",
    "m = max(B.keys())\n",
    "lambda_ = [0.0] * (m + 1)  # index 0 unused, just set to 0.0\n",
    "for k in range(1, m + 1):\n",
    "    lambda_[k] = B.get(k, 0.0)\n",
    "weights = np.exp(u).reshape(-1).tolist()\n",
    "\n",
    "# PTAS\n",
    "ao_instance = AO_Instance(N, m, lambda_, weights, r, C[0])\n",
    "# OP\n",
    "op = MPAssortOriginal(u, r, B, GumBel(), C)\n",
    "\n",
    "# compare revenue function\n",
    "x = np.random.choice([0, 1], size=N, p=[0.4, 0.6])\n",
    "S_x =[i for i, val in enumerate(x) if val > 0.99]\n",
    "print(\"ptas revenue\", ao_instance.Compute_Rev(S_x))\n",
    "print(\"op revenue\", op._pi(x))\n",
    "\n",
    "# compare choice probability\n",
    "i = np.random.choice(S_x)\n",
    "print(\"item\", i)\n",
    "print(\"ptas choice probability\", ao_instance.True_Choice_Prob(S_x, i))\n",
    "print(\"op choice probability\", op.Get_Choice_Prob_MP_MNL(S_x, i))\n",
    "\n",
    "# # compare optimal revenue\n",
    "# best_rev_ptas = ao_instance.Get_Opt_Card()\n",
    "# op_obj = OP_obj(op)\n",
    "# brute_force = BruteForceOptimizer(N, C, num_cores=4)\n",
    "# _, best_rev_op = brute_force.maximize(op_obj)\n",
    "# print(\"best rev ptas\", best_rev_ptas)\n",
    "# print(\"best rev op\", best_rev_op)\n",
    "\n",
    "\n",
    "# try ptas\n",
    "ptas_solver = run_PTAS(ao_instance)\n",
    "best_rev_ptas = ptas_solver.PTAS(0.6)\n",
    "print(\"best rev ptas\", best_rev_ptas)\n",
    "print(\"best assortment ptas\", ptas_solver.best_S)\n",
    "\n"
   ]
  },
  {
   "cell_type": "code",
   "execution_count": 12,
   "metadata": {},
   "outputs": [
    {
     "name": "stdout",
     "output_type": "stream",
     "text": [
      "[10, 11, 12, 13, 14]\n"
     ]
    }
   ],
   "source": [
    "\n",
    "light = [0,1,2,3,4,5,6,7,8,9]\n",
    "heavy = [10,11,12,13,14]\n",
    "opt_light = []\n",
    "S = [light[l_index] for l_index in opt_light] + heavy\n",
    "print(S)"
   ]
  }
 ],
 "metadata": {
  "kernelspec": {
   "display_name": "multi-purchase-venv",
   "language": "python",
   "name": "python3"
  },
  "language_info": {
   "codemirror_mode": {
    "name": "ipython",
    "version": 3
   },
   "file_extension": ".py",
   "mimetype": "text/x-python",
   "name": "python",
   "nbconvert_exporter": "python",
   "pygments_lexer": "ipython3",
   "version": "3.8.10"
  }
 },
 "nbformat": 4,
 "nbformat_minor": 2
}
