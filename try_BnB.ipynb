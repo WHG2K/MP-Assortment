{
 "cells": [
  {
   "cell_type": "code",
   "execution_count": 1,
   "metadata": {},
   "outputs": [],
   "source": [
    "import numpy as np\n",
    "from scipy.special import softmax\n",
    "from src.utils.brute_force import BruteForceOptimizer\n",
    "from src.algorithms.models import MPAssortOriginal, MPAssortSurrogate\n",
    "from src.utils.distributions import GumBel\n",
    "from src.utils.lp_optimizers import LinearProgramSolver\n",
    "import time\n",
    "from src.algorithms.BB import branch_and_bound\n"
   ]
  },
  {
   "cell_type": "code",
   "execution_count": 2,
   "metadata": {},
   "outputs": [],
   "source": [
    "class RSP_obj:\n",
    "    def __init__(self, model):\n",
    "        self.model = model\n",
    "\n",
    "    def __call__(self, w):\n",
    "        return self.model.RSP(w)[1]\n",
    "\n",
    "class RSP_ub:\n",
    "    def __init__(self, model):\n",
    "        self.model = model\n",
    "\n",
    "    def __call__(self, box_low, box_high):\n",
    "\n",
    "        N = len(self.model.u)\n",
    "\n",
    "        # Compute objective coefficients c\n",
    "        c = self.model._probs_buying_surrogate(box_low) * self.model.r\n",
    "        \n",
    "        # Construct constraint matrix A\n",
    "        A = np.vstack([\n",
    "            self.model._probs_U_exceed_w(box_high),  # First |B| rows are P(u[j] + X > w[i])\n",
    "            np.ones(N),   # Cardinality upper bound\n",
    "            -np.ones(N)   # Cardinality lower bound\n",
    "        ])\n",
    "        \n",
    "        # Compute RHS vector b\n",
    "        b = np.concatenate([\n",
    "            self.model._Bs,\n",
    "            [self.model.C[1], -self.model.C[0]]\n",
    "        ])\n",
    "\n",
    "        lp_solver = LinearProgramSolver()\n",
    "        upper_bound, _, status = lp_solver.maximize(c, A, b)\n",
    "        if status != 'Optimal':\n",
    "            raise ValueError(f\"Failed to solve RSP upper bound: {status}\")\n",
    "        return upper_bound\n",
    "    \n",
    "class RSP_lb:\n",
    "    def __init__(self, model):\n",
    "        self.model = model\n",
    "\n",
    "    def __call__(self, box_low, box_high):\n",
    "        box_middle = (box_low + box_high) / 2\n",
    "        # rsp_box_low = self.model.RSP(box_low)\n",
    "        # rsp_box_high = self.model.RSP(box_high)\n",
    "        rsp_box_middle = self.model.RSP(box_middle)[1]\n",
    "        return rsp_box_middle, box_middle\n",
    "\n",
    "        # return max(rsp_box_low, rsp_box_middle, rsp_box_high)"
   ]
  },
  {
   "cell_type": "markdown",
   "metadata": {},
   "source": [
    "#### Model Params"
   ]
  },
  {
   "cell_type": "code",
   "execution_count": 3,
   "metadata": {},
   "outputs": [],
   "source": [
    "# Problem parameters\n",
    "N = 15  # Number of products\n",
    "C = (12, 12)  # Cardinality constraints\n",
    "\n",
    "# Generate random problem instance\n",
    "np.random.seed(42)\n",
    "u = np.random.normal(0, 1, N)\n",
    "r = np.random.uniform(1, 10, N)\n",
    "\n",
    "# Generate basket size distribution\n",
    "basket_sizes = [1, 2, 3]\n",
    "probs = np.random.normal(0, 1, len(basket_sizes))\n",
    "probs = softmax(probs)\n",
    "B = dict(zip(basket_sizes, probs))\n",
    "\n",
    "# Create distribution\n",
    "distr = GumBel()\n",
    "\n",
    "# Create objective functions\n",
    "n_samples = 10000\n",
    "op = MPAssortOriginal(u, r, B, distr, C, samples=distr.random_sample((n_samples, len(u)+1)))\n",
    "sp = MPAssortSurrogate(u, r, B, distr, C)"
   ]
  },
  {
   "cell_type": "code",
   "execution_count": 4,
   "metadata": {},
   "outputs": [
    {
     "name": "stdout",
     "output_type": "stream",
     "text": [
      "box_low [1.78 1.02 0.55]\n",
      "box_hig [2.44 1.67 1.18]\n",
      "Layer= 0, ub=14.9992, lb=11.0990\n",
      "Layer= 1, ub=14.7304, lb=11.1159\n",
      "Layer= 2, ub=14.3302, lb=11.1159\n",
      "Layer= 3, ub=13.7890, lb=11.1176\n",
      "Layer= 4, ub=13.6757, lb=11.2173\n",
      "Layer= 5, ub=13.4796, lb=11.3316\n",
      "Layer= 6, ub=12.4922, lb=11.3364\n",
      "Layer= 7, ub=12.4922, lb=11.4134\n",
      "Layer= 8, ub=12.4922, lb=11.4652\n",
      "Layer= 9, ub=-inf, lb=11.4652\n",
      "Optimal solution: [2.06859589 1.30630493 0.78536987]\n",
      "Optimal objective value: 11.465196388914844\n"
     ]
    }
   ],
   "source": [
    "# box_low = np.array([-5, -5, -5], dtype=float)  # Lower bounds of objective function\n",
    "# box_high = np.array([5, 5, 5], dtype=float)  # Upper bounds of objective function\n",
    "w_range = np.array(sp._get_box_constraints())\n",
    "box_low = np.array(w_range[:, 0]).reshape(-1)\n",
    "box_high = np.array(w_range[:, 1]).reshape(-1)\n",
    "print(\"box_low\", np.round(box_low, 2))\n",
    "print(\"box_hig\", np.round(box_high, 2))\n",
    "\n",
    "rsp_obj = RSP_obj(sp)\n",
    "rsp_ub = RSP_ub(sp)\n",
    "rsp_lb = RSP_lb(sp)\n",
    "\n",
    "# x = (box_low + box_high) / 2\n",
    "# print(rsp_ub(box_low, box_high))\n",
    "\n",
    "# Run branch and bound algorithm\n",
    "best_solution, best_objective = branch_and_bound(rsp_obj, rsp_lb, rsp_ub, box_low, box_high, tolerance=0.5)\n",
    "\n",
    "print(f\"Optimal solution: {best_solution}\")\n",
    "print(f\"Optimal objective value: {best_objective}\")"
   ]
  },
  {
   "cell_type": "code",
   "execution_count": 5,
   "metadata": {},
   "outputs": [],
   "source": [
    "from src.utils.brute_force import BruteForceOptimizer\n"
   ]
  },
  {
   "cell_type": "code",
   "execution_count": 6,
   "metadata": {},
   "outputs": [
    {
     "name": "stdout",
     "output_type": "stream",
     "text": [
      "Optimal solution: [1 1 1 1 1 1 0 1 1 0 1 1 0 1 1]\n",
      "Selected indices: [ 0  1  2  3  4  5  7  8 10 11 13 14]\n",
      "Optimal value: 11.1917\n",
      "Computation time: 4.3863 seconds\n"
     ]
    }
   ],
   "source": [
    "num_cores = 4\n",
    "bf_optimizer = BruteForceOptimizer(N=N, C=C, num_cores=num_cores)\n",
    "\n",
    "start_time = time.time()\n",
    "x_op, val_op = bf_optimizer.maximize(op)\n",
    "time_op = time.time() - start_time\n",
    "\n",
    "print(f\"Optimal solution: {x_op}\")\n",
    "print(f\"Selected indices: {np.where(x_op == 1)[0]}\")\n",
    "print(f\"Optimal value: {val_op:.4f}\")\n",
    "print(f\"Computation time: {time_op:.4f} seconds\")"
   ]
  },
  {
   "cell_type": "code",
   "execution_count": 8,
   "metadata": {},
   "outputs": [
    {
     "name": "stdout",
     "output_type": "stream",
     "text": [
      "\n",
      "=== RSP with branch-and-bound ===\n",
      "Optimal solution: [1 1 1 1 1 1 0 1 1 0 1 1 0 1 1]\n",
      "Selected indices: [ 0  1  2  3  4  5  7  8 10 11 13 14]\n",
      "Optimal value: 11.1917\n",
      "Computation time: 0.0354 seconds\n",
      "\n",
      "=== Solution Comparison under Original Pi ===\n",
      "Original Pi value for x_op: 11.1917\n",
      "Original Pi value for x_sp: 11.1917\n",
      "Relative gap: 0.0000%\n"
     ]
    }
   ],
   "source": [
    "print(\"\\n=== RSP with branch-and-bound ===\")\n",
    "start_time = time.time()\n",
    "w = [2.06859589, 1.30630493, 0.78536987]\n",
    "x_rsp, _ = sp.SP(w)\n",
    "time_sp = time.time() - start_time\n",
    "\n",
    "print(f\"Optimal solution: {x_rsp}\")\n",
    "print(f\"Selected indices: {np.where(x_rsp == 1)[0]}\")\n",
    "print(f\"Optimal value: {op(x_rsp):.4f}\")\n",
    "print(f\"Computation time: {time_sp:.4f} seconds\")\n",
    "\n",
    "# Compare solutions under original objective\n",
    "print(\"\\n=== Solution Comparison under Original Pi ===\")\n",
    "op_val_for_x_op = op(x_op)\n",
    "op_val_for_x_sp = op(x_rsp)\n",
    "\n",
    "print(f\"Original Pi value for x_op: {op_val_for_x_op:.4f}\")\n",
    "print(f\"Original Pi value for x_sp: {op_val_for_x_sp:.4f}\")\n",
    "print(f\"Relative gap: {(op_val_for_x_op - op_val_for_x_sp)/op_val_for_x_op:.4%}\")"
   ]
  }
 ],
 "metadata": {
  "kernelspec": {
   "display_name": "multi-purchase-venv",
   "language": "python",
   "name": "python3"
  },
  "language_info": {
   "codemirror_mode": {
    "name": "ipython",
    "version": 3
   },
   "file_extension": ".py",
   "mimetype": "text/x-python",
   "name": "python",
   "nbconvert_exporter": "python",
   "pygments_lexer": "ipython3",
   "version": "3.8.10"
  }
 },
 "nbformat": 4,
 "nbformat_minor": 2
}
